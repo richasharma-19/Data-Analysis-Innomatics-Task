{
 "cells": [
  {
   "cell_type": "code",
   "execution_count": 1,
   "id": "e7e3a2fb",
   "metadata": {},
   "outputs": [],
   "source": [
    "# Importing important libraries\n",
    "import pandas as pd\n",
    "import numpy as np\n",
    "import warnings\n",
    "warnings.filterwarnings('ignore')\n",
    "import matplotlib.pyplot as plt\n",
    "import seaborn as sns"
   ]
  },
  {
   "cell_type": "markdown",
   "id": "c60757fd",
   "metadata": {},
   "source": [
    "## Data Gathering"
   ]
  },
  {
   "cell_type": "code",
   "execution_count": 2,
   "id": "c6e62248",
   "metadata": {},
   "outputs": [
    {
     "data": {
      "text/html": [
       "<div>\n",
       "<style scoped>\n",
       "    .dataframe tbody tr th:only-of-type {\n",
       "        vertical-align: middle;\n",
       "    }\n",
       "\n",
       "    .dataframe tbody tr th {\n",
       "        vertical-align: top;\n",
       "    }\n",
       "\n",
       "    .dataframe thead th {\n",
       "        text-align: right;\n",
       "    }\n",
       "</style>\n",
       "<table border=\"1\" class=\"dataframe\">\n",
       "  <thead>\n",
       "    <tr style=\"text-align: right;\">\n",
       "      <th></th>\n",
       "      <th>Batch</th>\n",
       "      <th>User_ID</th>\n",
       "      <th>Score</th>\n",
       "    </tr>\n",
       "  </thead>\n",
       "  <tbody>\n",
       "    <tr>\n",
       "      <th>0</th>\n",
       "      <td>AI_ELITE_7</td>\n",
       "      <td>uid_149</td>\n",
       "      <td>6 / 7</td>\n",
       "    </tr>\n",
       "    <tr>\n",
       "      <th>1</th>\n",
       "      <td>AI_ELITE_7</td>\n",
       "      <td>uid_148</td>\n",
       "      <td>6 / 7</td>\n",
       "    </tr>\n",
       "    <tr>\n",
       "      <th>2</th>\n",
       "      <td>AI_ELITE_7</td>\n",
       "      <td>uid_147</td>\n",
       "      <td>7 / 7</td>\n",
       "    </tr>\n",
       "    <tr>\n",
       "      <th>3</th>\n",
       "      <td>AI_ELITE_7</td>\n",
       "      <td>uid_146</td>\n",
       "      <td>7 / 7</td>\n",
       "    </tr>\n",
       "    <tr>\n",
       "      <th>4</th>\n",
       "      <td>AI_ELITE_7</td>\n",
       "      <td>uid_145</td>\n",
       "      <td>4 / 7</td>\n",
       "    </tr>\n",
       "    <tr>\n",
       "      <th>...</th>\n",
       "      <td>...</td>\n",
       "      <td>...</td>\n",
       "      <td>...</td>\n",
       "    </tr>\n",
       "    <tr>\n",
       "      <th>144</th>\n",
       "      <td>AI_ELITE_4</td>\n",
       "      <td>uid_5</td>\n",
       "      <td>4 / 7</td>\n",
       "    </tr>\n",
       "    <tr>\n",
       "      <th>145</th>\n",
       "      <td>AI_ELITE_4</td>\n",
       "      <td>uid_4</td>\n",
       "      <td>4 / 7</td>\n",
       "    </tr>\n",
       "    <tr>\n",
       "      <th>146</th>\n",
       "      <td>AI_ELITE_4</td>\n",
       "      <td>uid_3</td>\n",
       "      <td>4 / 7</td>\n",
       "    </tr>\n",
       "    <tr>\n",
       "      <th>147</th>\n",
       "      <td>AI_ELITE_4</td>\n",
       "      <td>uid_2</td>\n",
       "      <td>3 / 7</td>\n",
       "    </tr>\n",
       "    <tr>\n",
       "      <th>148</th>\n",
       "      <td>AI_ELITE_4</td>\n",
       "      <td>uid_1</td>\n",
       "      <td>2 / 7</td>\n",
       "    </tr>\n",
       "  </tbody>\n",
       "</table>\n",
       "<p>149 rows × 3 columns</p>\n",
       "</div>"
      ],
      "text/plain": [
       "         Batch  User_ID     Score   \n",
       "0    AI_ELITE_7  uid_149       6 / 7\n",
       "1    AI_ELITE_7  uid_148       6 / 7\n",
       "2    AI_ELITE_7  uid_147       7 / 7\n",
       "3    AI_ELITE_7  uid_146       7 / 7\n",
       "4    AI_ELITE_7  uid_145       4 / 7\n",
       "..          ...      ...         ...\n",
       "144  AI_ELITE_4    uid_5       4 / 7\n",
       "145  AI_ELITE_4    uid_4       4 / 7\n",
       "146  AI_ELITE_4    uid_3       4 / 7\n",
       "147  AI_ELITE_4    uid_2       3 / 7\n",
       "148  AI_ELITE_4    uid_1       2 / 7\n",
       "\n",
       "[149 rows x 3 columns]"
      ]
     },
     "execution_count": 2,
     "metadata": {},
     "output_type": "execute_result"
    }
   ],
   "source": [
    "df = pd.read_csv(\"scores_data.csv\")\n",
    "df"
   ]
  },
  {
   "cell_type": "markdown",
   "id": "d04fca1e",
   "metadata": {},
   "source": [
    "## EDA"
   ]
  },
  {
   "cell_type": "code",
   "execution_count": 3,
   "id": "dc1051b7",
   "metadata": {},
   "outputs": [
    {
     "data": {
      "text/plain": [
       "(149, 3)"
      ]
     },
     "execution_count": 3,
     "metadata": {},
     "output_type": "execute_result"
    }
   ],
   "source": [
    "df.shape"
   ]
  },
  {
   "cell_type": "code",
   "execution_count": 4,
   "id": "a321fb1b",
   "metadata": {},
   "outputs": [
    {
     "name": "stdout",
     "output_type": "stream",
     "text": [
      "<class 'pandas.core.frame.DataFrame'>\n",
      "RangeIndex: 149 entries, 0 to 148\n",
      "Data columns (total 3 columns):\n",
      " #   Column       Non-Null Count  Dtype \n",
      "---  ------       --------------  ----- \n",
      " 0   Batch        149 non-null    object\n",
      " 1   User_ID      149 non-null    object\n",
      " 2      Score     149 non-null    object\n",
      "dtypes: object(3)\n",
      "memory usage: 3.6+ KB\n"
     ]
    }
   ],
   "source": [
    "df.info() # Check Null and Dtypes"
   ]
  },
  {
   "cell_type": "code",
   "execution_count": 5,
   "id": "0b9e2390",
   "metadata": {},
   "outputs": [
    {
     "data": {
      "text/html": [
       "<div>\n",
       "<style scoped>\n",
       "    .dataframe tbody tr th:only-of-type {\n",
       "        vertical-align: middle;\n",
       "    }\n",
       "\n",
       "    .dataframe tbody tr th {\n",
       "        vertical-align: top;\n",
       "    }\n",
       "\n",
       "    .dataframe thead th {\n",
       "        text-align: right;\n",
       "    }\n",
       "</style>\n",
       "<table border=\"1\" class=\"dataframe\">\n",
       "  <thead>\n",
       "    <tr style=\"text-align: right;\">\n",
       "      <th></th>\n",
       "      <th>Batch</th>\n",
       "      <th>User_ID</th>\n",
       "      <th>Score</th>\n",
       "    </tr>\n",
       "  </thead>\n",
       "  <tbody>\n",
       "    <tr>\n",
       "      <th>count</th>\n",
       "      <td>149</td>\n",
       "      <td>149</td>\n",
       "      <td>149</td>\n",
       "    </tr>\n",
       "    <tr>\n",
       "      <th>unique</th>\n",
       "      <td>3</td>\n",
       "      <td>149</td>\n",
       "      <td>8</td>\n",
       "    </tr>\n",
       "    <tr>\n",
       "      <th>top</th>\n",
       "      <td>AI_ELITE_7</td>\n",
       "      <td>uid_149</td>\n",
       "      <td>4 / 7</td>\n",
       "    </tr>\n",
       "    <tr>\n",
       "      <th>freq</th>\n",
       "      <td>53</td>\n",
       "      <td>1</td>\n",
       "      <td>40</td>\n",
       "    </tr>\n",
       "  </tbody>\n",
       "</table>\n",
       "</div>"
      ],
      "text/plain": [
       "            Batch  User_ID     Score   \n",
       "count          149      149         149\n",
       "unique           3      149           8\n",
       "top     AI_ELITE_7  uid_149       4 / 7\n",
       "freq            53        1          40"
      ]
     },
     "execution_count": 5,
     "metadata": {},
     "output_type": "execute_result"
    }
   ],
   "source": [
    "df.describe() # display summary statistics for a dataframe"
   ]
  },
  {
   "cell_type": "code",
   "execution_count": 6,
   "id": "fac5960c",
   "metadata": {},
   "outputs": [
    {
     "data": {
      "text/plain": [
       "0"
      ]
     },
     "execution_count": 6,
     "metadata": {},
     "output_type": "execute_result"
    }
   ],
   "source": [
    "df.duplicated().sum() # display duplicate values"
   ]
  },
  {
   "cell_type": "code",
   "execution_count": 7,
   "id": "afede8c7",
   "metadata": {},
   "outputs": [
    {
     "data": {
      "text/plain": [
       "Batch          0\n",
       "User_ID        0\n",
       "   Score       0\n",
       "dtype: int64"
      ]
     },
     "execution_count": 7,
     "metadata": {},
     "output_type": "execute_result"
    }
   ],
   "source": [
    "df.isna().sum() # display null values "
   ]
  },
  {
   "cell_type": "code",
   "execution_count": 8,
   "id": "bf1bdd9e",
   "metadata": {},
   "outputs": [
    {
     "data": {
      "text/plain": [
       "Index(['Batch ', 'User_ID ', '   Score   '], dtype='object')"
      ]
     },
     "execution_count": 8,
     "metadata": {},
     "output_type": "execute_result"
    }
   ],
   "source": [
    "df.columns"
   ]
  },
  {
   "cell_type": "markdown",
   "id": "fd695230",
   "metadata": {},
   "source": [
    "## Univariate Analysis"
   ]
  },
  {
   "cell_type": "code",
   "execution_count": 9,
   "id": "0419a025",
   "metadata": {},
   "outputs": [
    {
     "data": {
      "text/plain": [
       "Batch       User_ID      Score   \n",
       "AI_ELITE_4  uid_1     2 / 7          1\n",
       "AI_ELITE_6  uid_95    4 / 7          1\n",
       "AI_ELITE_7  uid_100   3 / 7          1\n",
       "            uid_101   6 / 7          1\n",
       "            uid_102   4 / 7          1\n",
       "                                    ..\n",
       "AI_ELITE_6  uid_51    7 / 7          1\n",
       "            uid_52    1 / 7          1\n",
       "            uid_53    3 / 7          1\n",
       "            uid_54    2 / 7          1\n",
       "AI_ELITE_7  uid_99    2 / 7          1\n",
       "Length: 149, dtype: int64"
      ]
     },
     "execution_count": 9,
     "metadata": {},
     "output_type": "execute_result"
    }
   ],
   "source": [
    "df.value_counts()"
   ]
  },
  {
   "cell_type": "code",
   "execution_count": 10,
   "id": "0ef1bac0",
   "metadata": {},
   "outputs": [
    {
     "data": {
      "text/plain": [
       "AI_ELITE_7    53\n",
       "AI_ELITE_6    48\n",
       "AI_ELITE_4    48\n",
       "Name: Batch , dtype: int64"
      ]
     },
     "execution_count": 10,
     "metadata": {},
     "output_type": "execute_result"
    }
   ],
   "source": [
    "df['Batch '].value_counts()"
   ]
  },
  {
   "cell_type": "code",
   "execution_count": 18,
   "id": "7cd2e6d4",
   "metadata": {},
   "outputs": [
    {
     "data": {
      "text/plain": [
       "149"
      ]
     },
     "execution_count": 18,
     "metadata": {},
     "output_type": "execute_result"
    }
   ],
   "source": [
    "df['User_ID '].nunique()"
   ]
  },
  {
   "cell_type": "code",
   "execution_count": 22,
   "id": "08e06768",
   "metadata": {},
   "outputs": [
    {
     "data": {
      "text/plain": [
       "4 / 7    40\n",
       "5 / 7    32\n",
       "3 / 7    24\n",
       "6 / 7    18\n",
       "7 / 7    18\n",
       "2 / 7    12\n",
       "1 / 7     3\n",
       "0 / 7     2\n",
       "Name:    Score   , dtype: int64"
      ]
     },
     "execution_count": 22,
     "metadata": {},
     "output_type": "execute_result"
    }
   ],
   "source": [
    "df['   Score   '].value_counts()"
   ]
  },
  {
   "cell_type": "code",
   "execution_count": 24,
   "id": "d83bb8b9",
   "metadata": {},
   "outputs": [
    {
     "data": {
      "text/plain": [
       "<AxesSubplot:xlabel='   Score   ', ylabel='count'>"
      ]
     },
     "execution_count": 24,
     "metadata": {},
     "output_type": "execute_result"
    },
    {
     "data": {
      "image/png": "[encoded data removed]",
      "text/plain": [
       "<Figure size 432x288 with 1 Axes>"
      ]
     },
     "metadata": {
      "needs_background": "light"
     },
     "output_type": "display_data"
    }
   ],
   "source": [
    "sns.countplot(x='   Score   ',data=df)"
   ]
  },
  {
   "cell_type": "code",
   "execution_count": 26,
   "id": "f5b3fad1",
   "metadata": {},
   "outputs": [
    {
     "data": {
      "text/plain": [
       "<AxesSubplot:xlabel='Batch ', ylabel='count'>"
      ]
     },
     "execution_count": 26,
     "metadata": {},
     "output_type": "execute_result"
    },
    {
     "data": {
      "image/png": "[encoded data removed]",
      "text/plain": [
       "<Figure size 432x288 with 1 Axes>"
      ]
     },
     "metadata": {
      "needs_background": "light"
     },
     "output_type": "display_data"
    }
   ],
   "source": [
    "sns.countplot(x='Batch ',data=df)"
   ]
  },
  {
   "cell_type": "code",
   "execution_count": 28,
   "id": "93926bf1",
   "metadata": {},
   "outputs": [
    {
     "data": {
      "text/html": [
       "<div>\n",
       "<style scoped>\n",
       "    .dataframe tbody tr th:only-of-type {\n",
       "        vertical-align: middle;\n",
       "    }\n",
       "\n",
       "    .dataframe tbody tr th {\n",
       "        vertical-align: top;\n",
       "    }\n",
       "\n",
       "    .dataframe thead th {\n",
       "        text-align: right;\n",
       "    }\n",
       "</style>\n",
       "<table border=\"1\" class=\"dataframe\">\n",
       "  <thead>\n",
       "    <tr style=\"text-align: right;\">\n",
       "      <th></th>\n",
       "      <th></th>\n",
       "      <th>User_ID</th>\n",
       "    </tr>\n",
       "    <tr>\n",
       "      <th>Batch</th>\n",
       "      <th>Score</th>\n",
       "      <th></th>\n",
       "    </tr>\n",
       "  </thead>\n",
       "  <tbody>\n",
       "    <tr>\n",
       "      <th rowspan=\"8\" valign=\"top\">AI_ELITE_4</th>\n",
       "      <th>0 / 7</th>\n",
       "      <td>uid_14</td>\n",
       "    </tr>\n",
       "    <tr>\n",
       "      <th>1 / 7</th>\n",
       "      <td>uid_20</td>\n",
       "    </tr>\n",
       "    <tr>\n",
       "      <th>2 / 7</th>\n",
       "      <td>uid_41</td>\n",
       "    </tr>\n",
       "    <tr>\n",
       "      <th>3 / 7</th>\n",
       "      <td>uid_29</td>\n",
       "    </tr>\n",
       "    <tr>\n",
       "      <th>4 / 7</th>\n",
       "      <td>uid_46</td>\n",
       "    </tr>\n",
       "    <tr>\n",
       "      <th>5 / 7</th>\n",
       "      <td>uid_47</td>\n",
       "    </tr>\n",
       "    <tr>\n",
       "      <th>6 / 7</th>\n",
       "      <td>uid_42</td>\n",
       "    </tr>\n",
       "    <tr>\n",
       "      <th>7 / 7</th>\n",
       "      <td>uid_48</td>\n",
       "    </tr>\n",
       "    <tr>\n",
       "      <th rowspan=\"8\" valign=\"top\">AI_ELITE_6</th>\n",
       "      <th>0 / 7</th>\n",
       "      <td>uid_81</td>\n",
       "    </tr>\n",
       "    <tr>\n",
       "      <th>1 / 7</th>\n",
       "      <td>uid_78</td>\n",
       "    </tr>\n",
       "    <tr>\n",
       "      <th>2 / 7</th>\n",
       "      <td>uid_57</td>\n",
       "    </tr>\n",
       "    <tr>\n",
       "      <th>3 / 7</th>\n",
       "      <td>uid_96</td>\n",
       "    </tr>\n",
       "    <tr>\n",
       "      <th>4 / 7</th>\n",
       "      <td>uid_95</td>\n",
       "    </tr>\n",
       "    <tr>\n",
       "      <th>5 / 7</th>\n",
       "      <td>uid_88</td>\n",
       "    </tr>\n",
       "    <tr>\n",
       "      <th>6 / 7</th>\n",
       "      <td>uid_94</td>\n",
       "    </tr>\n",
       "    <tr>\n",
       "      <th>7 / 7</th>\n",
       "      <td>uid_86</td>\n",
       "    </tr>\n",
       "    <tr>\n",
       "      <th rowspan=\"6\" valign=\"top\">AI_ELITE_7</th>\n",
       "      <th>2 / 7</th>\n",
       "      <td>uid_112</td>\n",
       "    </tr>\n",
       "    <tr>\n",
       "      <th>3 / 7</th>\n",
       "      <td>uid_141</td>\n",
       "    </tr>\n",
       "    <tr>\n",
       "      <th>4 / 7</th>\n",
       "      <td>uid_145</td>\n",
       "    </tr>\n",
       "    <tr>\n",
       "      <th>5 / 7</th>\n",
       "      <td>uid_143</td>\n",
       "    </tr>\n",
       "    <tr>\n",
       "      <th>6 / 7</th>\n",
       "      <td>uid_149</td>\n",
       "    </tr>\n",
       "    <tr>\n",
       "      <th>7 / 7</th>\n",
       "      <td>uid_147</td>\n",
       "    </tr>\n",
       "  </tbody>\n",
       "</table>\n",
       "</div>"
      ],
      "text/plain": [
       "                       User_ID \n",
       "Batch         Score            \n",
       "AI_ELITE_4 0 / 7         uid_14\n",
       "           1 / 7         uid_20\n",
       "           2 / 7         uid_41\n",
       "           3 / 7         uid_29\n",
       "           4 / 7         uid_46\n",
       "           5 / 7         uid_47\n",
       "           6 / 7         uid_42\n",
       "           7 / 7         uid_48\n",
       "AI_ELITE_6 0 / 7         uid_81\n",
       "           1 / 7         uid_78\n",
       "           2 / 7         uid_57\n",
       "           3 / 7         uid_96\n",
       "           4 / 7         uid_95\n",
       "           5 / 7         uid_88\n",
       "           6 / 7         uid_94\n",
       "           7 / 7         uid_86\n",
       "AI_ELITE_7 2 / 7        uid_112\n",
       "           3 / 7        uid_141\n",
       "           4 / 7        uid_145\n",
       "           5 / 7        uid_143\n",
       "           6 / 7        uid_149\n",
       "           7 / 7        uid_147"
      ]
     },
     "execution_count": 28,
     "metadata": {},
     "output_type": "execute_result"
    }
   ],
   "source": [
    "g = df.groupby(['Batch ','   Score   '])\n",
    "g.first()\n"
   ]
  },
  {
   "cell_type": "code",
   "execution_count": 37,
   "id": "7a299797",
   "metadata": {},
   "outputs": [
    {
     "data": {
      "text/html": [
       "<div>\n",
       "<style scoped>\n",
       "    .dataframe tbody tr th:only-of-type {\n",
       "        vertical-align: middle;\n",
       "    }\n",
       "\n",
       "    .dataframe tbody tr th {\n",
       "        vertical-align: top;\n",
       "    }\n",
       "\n",
       "    .dataframe thead th {\n",
       "        text-align: right;\n",
       "    }\n",
       "</style>\n",
       "<table border=\"1\" class=\"dataframe\">\n",
       "  <thead>\n",
       "    <tr style=\"text-align: right;\">\n",
       "      <th></th>\n",
       "      <th>User_ID</th>\n",
       "      <th>Score</th>\n",
       "    </tr>\n",
       "    <tr>\n",
       "      <th>Batch</th>\n",
       "      <th></th>\n",
       "      <th></th>\n",
       "    </tr>\n",
       "  </thead>\n",
       "  <tbody>\n",
       "    <tr>\n",
       "      <th>AI_ELITE_4</th>\n",
       "      <td>uid_48</td>\n",
       "      <td>7 / 7</td>\n",
       "    </tr>\n",
       "    <tr>\n",
       "      <th>AI_ELITE_6</th>\n",
       "      <td>uid_96</td>\n",
       "      <td>3 / 7</td>\n",
       "    </tr>\n",
       "    <tr>\n",
       "      <th>AI_ELITE_7</th>\n",
       "      <td>uid_149</td>\n",
       "      <td>6 / 7</td>\n",
       "    </tr>\n",
       "  </tbody>\n",
       "</table>\n",
       "</div>"
      ],
      "text/plain": [
       "           User_ID     Score   \n",
       "Batch                          \n",
       "AI_ELITE_4   uid_48       7 / 7\n",
       "AI_ELITE_6   uid_96       3 / 7\n",
       "AI_ELITE_7  uid_149       6 / 7"
      ]
     },
     "execution_count": 37,
     "metadata": {},
     "output_type": "execute_result"
    }
   ],
   "source": [
    "f = df.groupby(['Batch '])\n",
    "f.first()"
   ]
  },
  {
   "cell_type": "code",
   "execution_count": null,
   "id": "ee6e6330",
   "metadata": {},
   "outputs": [],
   "source": []
  }
 ],
 "metadata": {
  "kernelspec": {
   "display_name": "Python 3 (ipykernel)",
   "language": "python",
   "name": "python3"
  },
  "language_info": {
   "codemirror_mode": {
    "name": "ipython",
    "version": 3
   },
   "file_extension": ".py",
   "mimetype": "text/x-python",
   "name": "python",
   "nbconvert_exporter": "python",
   "pygments_lexer": "ipython3",
   "version": "3.9.12"
  }
 },
 "nbformat": 4,
 "nbformat_minor": 5
}
