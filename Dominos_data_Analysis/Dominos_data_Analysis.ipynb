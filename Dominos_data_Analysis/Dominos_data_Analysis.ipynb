{
 "cells": [
  {
   "cell_type": "code",
   "execution_count": 24,
   "id": "6f17a020",
   "metadata": {},
   "outputs": [],
   "source": [
    "# Importing important libraries\n",
    "import pandas as pd\n",
    "import numpy as np\n",
    "import warnings\n",
    "warnings.filterwarnings('ignore')\n",
    "import matplotlib.pyplot as plt\n",
    "import seaborn as sns\n"
   ]
  },
  {
   "cell_type": "markdown",
   "id": "9bc6c82b",
   "metadata": {},
   "source": [
    "## Data Gathering"
   ]
  },
  {
   "cell_type": "code",
   "execution_count": 2,
   "id": "faf73bcc",
   "metadata": {},
   "outputs": [
    {
     "data": {
      "text/html": [
       "<div>\n",
       "<style scoped>\n",
       "    .dataframe tbody tr th:only-of-type {\n",
       "        vertical-align: middle;\n",
       "    }\n",
       "\n",
       "    .dataframe tbody tr th {\n",
       "        vertical-align: top;\n",
       "    }\n",
       "\n",
       "    .dataframe thead th {\n",
       "        text-align: right;\n",
       "    }\n",
       "</style>\n",
       "<table border=\"1\" class=\"dataframe\">\n",
       "  <thead>\n",
       "    <tr style=\"text-align: right;\">\n",
       "      <th></th>\n",
       "      <th>order_id</th>\n",
       "      <th>order_placed_at</th>\n",
       "      <th>order_delivered_at</th>\n",
       "    </tr>\n",
       "  </thead>\n",
       "  <tbody>\n",
       "    <tr>\n",
       "      <th>0</th>\n",
       "      <td>1523111</td>\n",
       "      <td>2023-03-01 00:00:59</td>\n",
       "      <td>2023-03-01 00:18:07.443132</td>\n",
       "    </tr>\n",
       "    <tr>\n",
       "      <th>1</th>\n",
       "      <td>1523112</td>\n",
       "      <td>2023-03-01 00:03:59</td>\n",
       "      <td>2023-03-01 00:19:34.925241</td>\n",
       "    </tr>\n",
       "    <tr>\n",
       "      <th>2</th>\n",
       "      <td>1523113</td>\n",
       "      <td>2023-03-01 00:07:22</td>\n",
       "      <td>2023-03-01 00:22:28.291385</td>\n",
       "    </tr>\n",
       "    <tr>\n",
       "      <th>3</th>\n",
       "      <td>1523114</td>\n",
       "      <td>2023-03-01 00:07:47</td>\n",
       "      <td>2023-03-01 00:46:19.019399</td>\n",
       "    </tr>\n",
       "    <tr>\n",
       "      <th>4</th>\n",
       "      <td>1523115</td>\n",
       "      <td>2023-03-01 00:09:03</td>\n",
       "      <td>2023-03-01 00:25:13.619056</td>\n",
       "    </tr>\n",
       "    <tr>\n",
       "      <th>...</th>\n",
       "      <td>...</td>\n",
       "      <td>...</td>\n",
       "      <td>...</td>\n",
       "    </tr>\n",
       "    <tr>\n",
       "      <th>14995</th>\n",
       "      <td>1538106</td>\n",
       "      <td>2023-03-27 23:37:05</td>\n",
       "      <td>2023-03-27 23:52:37.409378</td>\n",
       "    </tr>\n",
       "    <tr>\n",
       "      <th>14996</th>\n",
       "      <td>1538107</td>\n",
       "      <td>2023-03-27 23:47:38</td>\n",
       "      <td>2023-03-28 00:04:22.672912</td>\n",
       "    </tr>\n",
       "    <tr>\n",
       "      <th>14997</th>\n",
       "      <td>1538108</td>\n",
       "      <td>2023-03-27 23:50:16</td>\n",
       "      <td>2023-03-28 00:05:40.676238</td>\n",
       "    </tr>\n",
       "    <tr>\n",
       "      <th>14998</th>\n",
       "      <td>1538109</td>\n",
       "      <td>2023-03-27 23:52:44</td>\n",
       "      <td>2023-03-28 00:08:41.810358</td>\n",
       "    </tr>\n",
       "    <tr>\n",
       "      <th>14999</th>\n",
       "      <td>1538110</td>\n",
       "      <td>2023-03-27 23:58:20</td>\n",
       "      <td>2023-03-28 00:13:42.499311</td>\n",
       "    </tr>\n",
       "  </tbody>\n",
       "</table>\n",
       "<p>15000 rows × 3 columns</p>\n",
       "</div>"
      ],
      "text/plain": [
       "       order_id      order_placed_at          order_delivered_at\n",
       "0       1523111  2023-03-01 00:00:59  2023-03-01 00:18:07.443132\n",
       "1       1523112  2023-03-01 00:03:59  2023-03-01 00:19:34.925241\n",
       "2       1523113  2023-03-01 00:07:22  2023-03-01 00:22:28.291385\n",
       "3       1523114  2023-03-01 00:07:47  2023-03-01 00:46:19.019399\n",
       "4       1523115  2023-03-01 00:09:03  2023-03-01 00:25:13.619056\n",
       "...         ...                  ...                         ...\n",
       "14995   1538106  2023-03-27 23:37:05  2023-03-27 23:52:37.409378\n",
       "14996   1538107  2023-03-27 23:47:38  2023-03-28 00:04:22.672912\n",
       "14997   1538108  2023-03-27 23:50:16  2023-03-28 00:05:40.676238\n",
       "14998   1538109  2023-03-27 23:52:44  2023-03-28 00:08:41.810358\n",
       "14999   1538110  2023-03-27 23:58:20  2023-03-28 00:13:42.499311\n",
       "\n",
       "[15000 rows x 3 columns]"
      ]
     },
     "execution_count": 2,
     "metadata": {},
     "output_type": "execute_result"
    }
   ],
   "source": [
    "df = pd.read_csv(\"diminos_data.csv\")\n",
    "df"
   ]
  },
  {
   "cell_type": "markdown",
   "id": "b4cd7f57",
   "metadata": {},
   "source": [
    "## EDA"
   ]
  },
  {
   "cell_type": "code",
   "execution_count": 3,
   "id": "0ada57d5",
   "metadata": {},
   "outputs": [
    {
     "data": {
      "text/plain": [
       "(15000, 3)"
      ]
     },
     "execution_count": 3,
     "metadata": {},
     "output_type": "execute_result"
    }
   ],
   "source": [
    "df.shape"
   ]
  },
  {
   "cell_type": "code",
   "execution_count": 5,
   "id": "0eb8d89f",
   "metadata": {},
   "outputs": [
    {
     "name": "stdout",
     "output_type": "stream",
     "text": [
      "<class 'pandas.core.frame.DataFrame'>\n",
      "RangeIndex: 15000 entries, 0 to 14999\n",
      "Data columns (total 3 columns):\n",
      " #   Column              Non-Null Count  Dtype \n",
      "---  ------              --------------  ----- \n",
      " 0   order_id            15000 non-null  int64 \n",
      " 1   order_placed_at     15000 non-null  object\n",
      " 2   order_delivered_at  15000 non-null  object\n",
      "dtypes: int64(1), object(2)\n",
      "memory usage: 351.7+ KB\n"
     ]
    }
   ],
   "source": [
    "df.info() # Check Null and Dtypes"
   ]
  },
  {
   "cell_type": "code",
   "execution_count": 6,
   "id": "72cd3cd3",
   "metadata": {},
   "outputs": [
    {
     "data": {
      "text/html": [
       "<div>\n",
       "<style scoped>\n",
       "    .dataframe tbody tr th:only-of-type {\n",
       "        vertical-align: middle;\n",
       "    }\n",
       "\n",
       "    .dataframe tbody tr th {\n",
       "        vertical-align: top;\n",
       "    }\n",
       "\n",
       "    .dataframe thead th {\n",
       "        text-align: right;\n",
       "    }\n",
       "</style>\n",
       "<table border=\"1\" class=\"dataframe\">\n",
       "  <thead>\n",
       "    <tr style=\"text-align: right;\">\n",
       "      <th></th>\n",
       "      <th>order_id</th>\n",
       "    </tr>\n",
       "  </thead>\n",
       "  <tbody>\n",
       "    <tr>\n",
       "      <th>count</th>\n",
       "      <td>1.500000e+04</td>\n",
       "    </tr>\n",
       "    <tr>\n",
       "      <th>mean</th>\n",
       "      <td>1.530610e+06</td>\n",
       "    </tr>\n",
       "    <tr>\n",
       "      <th>std</th>\n",
       "      <td>4.330271e+03</td>\n",
       "    </tr>\n",
       "    <tr>\n",
       "      <th>min</th>\n",
       "      <td>1.523111e+06</td>\n",
       "    </tr>\n",
       "    <tr>\n",
       "      <th>25%</th>\n",
       "      <td>1.526861e+06</td>\n",
       "    </tr>\n",
       "    <tr>\n",
       "      <th>50%</th>\n",
       "      <td>1.530610e+06</td>\n",
       "    </tr>\n",
       "    <tr>\n",
       "      <th>75%</th>\n",
       "      <td>1.534360e+06</td>\n",
       "    </tr>\n",
       "    <tr>\n",
       "      <th>max</th>\n",
       "      <td>1.538110e+06</td>\n",
       "    </tr>\n",
       "  </tbody>\n",
       "</table>\n",
       "</div>"
      ],
      "text/plain": [
       "           order_id\n",
       "count  1.500000e+04\n",
       "mean   1.530610e+06\n",
       "std    4.330271e+03\n",
       "min    1.523111e+06\n",
       "25%    1.526861e+06\n",
       "50%    1.530610e+06\n",
       "75%    1.534360e+06\n",
       "max    1.538110e+06"
      ]
     },
     "execution_count": 6,
     "metadata": {},
     "output_type": "execute_result"
    }
   ],
   "source": [
    "df.describe() # display summary statistics for a dataframe"
   ]
  },
  {
   "cell_type": "code",
   "execution_count": 7,
   "id": "9e608605",
   "metadata": {},
   "outputs": [
    {
     "data": {
      "text/plain": [
       "0"
      ]
     },
     "execution_count": 7,
     "metadata": {},
     "output_type": "execute_result"
    }
   ],
   "source": [
    "df.duplicated().sum() # display duplicate values"
   ]
  },
  {
   "cell_type": "code",
   "execution_count": 8,
   "id": "70336604",
   "metadata": {},
   "outputs": [
    {
     "data": {
      "text/plain": [
       "order_id              0\n",
       "order_placed_at       0\n",
       "order_delivered_at    0\n",
       "dtype: int64"
      ]
     },
     "execution_count": 8,
     "metadata": {},
     "output_type": "execute_result"
    }
   ],
   "source": [
    "df.isna().sum() # display null values "
   ]
  },
  {
   "cell_type": "code",
   "execution_count": 9,
   "id": "3b5ce21c",
   "metadata": {},
   "outputs": [
    {
     "data": {
      "text/plain": [
       "Index(['order_id', 'order_placed_at', 'order_delivered_at'], dtype='object')"
      ]
     },
     "execution_count": 9,
     "metadata": {},
     "output_type": "execute_result"
    }
   ],
   "source": [
    "df.columns"
   ]
  },
  {
   "cell_type": "code",
   "execution_count": 10,
   "id": "86295ad8",
   "metadata": {},
   "outputs": [],
   "source": [
    "import datetime \n",
    "df['order_placed_at'] = pd.to_datetime(df['order_placed_at'])"
   ]
  },
  {
   "cell_type": "code",
   "execution_count": 13,
   "id": "051f6cc4",
   "metadata": {},
   "outputs": [
    {
     "name": "stdout",
     "output_type": "stream",
     "text": [
      "<class 'pandas.core.frame.DataFrame'>\n",
      "RangeIndex: 15000 entries, 0 to 14999\n",
      "Data columns (total 3 columns):\n",
      " #   Column              Non-Null Count  Dtype         \n",
      "---  ------              --------------  -----         \n",
      " 0   order_id            15000 non-null  int64         \n",
      " 1   order_placed_at     15000 non-null  datetime64[ns]\n",
      " 2   order_delivered_at  15000 non-null  datetime64[ns]\n",
      "dtypes: datetime64[ns](2), int64(1)\n",
      "memory usage: 351.7 KB\n"
     ]
    }
   ],
   "source": [
    "df.info()"
   ]
  },
  {
   "cell_type": "code",
   "execution_count": 12,
   "id": "629e5585",
   "metadata": {},
   "outputs": [],
   "source": [
    "df['order_delivered_at']=pd.to_datetime(df['order_delivered_at'])"
   ]
  },
  {
   "cell_type": "code",
   "execution_count": 17,
   "id": "e547240c",
   "metadata": {},
   "outputs": [],
   "source": [
    "# Days at order placed"
   ]
  },
  {
   "cell_type": "code",
   "execution_count": 15,
   "id": "9acaf568",
   "metadata": {},
   "outputs": [],
   "source": [
    "df['days_at_order_placed']=df['order_placed_at'].dt.strftime('%A')"
   ]
  },
  {
   "cell_type": "code",
   "execution_count": 18,
   "id": "bd185a73",
   "metadata": {},
   "outputs": [
    {
     "data": {
      "text/html": [
       "<div>\n",
       "<style scoped>\n",
       "    .dataframe tbody tr th:only-of-type {\n",
       "        vertical-align: middle;\n",
       "    }\n",
       "\n",
       "    .dataframe tbody tr th {\n",
       "        vertical-align: top;\n",
       "    }\n",
       "\n",
       "    .dataframe thead th {\n",
       "        text-align: right;\n",
       "    }\n",
       "</style>\n",
       "<table border=\"1\" class=\"dataframe\">\n",
       "  <thead>\n",
       "    <tr style=\"text-align: right;\">\n",
       "      <th></th>\n",
       "      <th>order_id</th>\n",
       "      <th>order_placed_at</th>\n",
       "      <th>order_delivered_at</th>\n",
       "      <th>days_at_order_placed</th>\n",
       "    </tr>\n",
       "  </thead>\n",
       "  <tbody>\n",
       "    <tr>\n",
       "      <th>0</th>\n",
       "      <td>1523111</td>\n",
       "      <td>2023-03-01 00:00:59</td>\n",
       "      <td>2023-03-01 00:18:07.443132</td>\n",
       "      <td>Wednesday</td>\n",
       "    </tr>\n",
       "    <tr>\n",
       "      <th>1</th>\n",
       "      <td>1523112</td>\n",
       "      <td>2023-03-01 00:03:59</td>\n",
       "      <td>2023-03-01 00:19:34.925241</td>\n",
       "      <td>Wednesday</td>\n",
       "    </tr>\n",
       "    <tr>\n",
       "      <th>2</th>\n",
       "      <td>1523113</td>\n",
       "      <td>2023-03-01 00:07:22</td>\n",
       "      <td>2023-03-01 00:22:28.291385</td>\n",
       "      <td>Wednesday</td>\n",
       "    </tr>\n",
       "    <tr>\n",
       "      <th>3</th>\n",
       "      <td>1523114</td>\n",
       "      <td>2023-03-01 00:07:47</td>\n",
       "      <td>2023-03-01 00:46:19.019399</td>\n",
       "      <td>Wednesday</td>\n",
       "    </tr>\n",
       "    <tr>\n",
       "      <th>4</th>\n",
       "      <td>1523115</td>\n",
       "      <td>2023-03-01 00:09:03</td>\n",
       "      <td>2023-03-01 00:25:13.619056</td>\n",
       "      <td>Wednesday</td>\n",
       "    </tr>\n",
       "    <tr>\n",
       "      <th>...</th>\n",
       "      <td>...</td>\n",
       "      <td>...</td>\n",
       "      <td>...</td>\n",
       "      <td>...</td>\n",
       "    </tr>\n",
       "    <tr>\n",
       "      <th>14995</th>\n",
       "      <td>1538106</td>\n",
       "      <td>2023-03-27 23:37:05</td>\n",
       "      <td>2023-03-27 23:52:37.409378</td>\n",
       "      <td>Monday</td>\n",
       "    </tr>\n",
       "    <tr>\n",
       "      <th>14996</th>\n",
       "      <td>1538107</td>\n",
       "      <td>2023-03-27 23:47:38</td>\n",
       "      <td>2023-03-28 00:04:22.672912</td>\n",
       "      <td>Monday</td>\n",
       "    </tr>\n",
       "    <tr>\n",
       "      <th>14997</th>\n",
       "      <td>1538108</td>\n",
       "      <td>2023-03-27 23:50:16</td>\n",
       "      <td>2023-03-28 00:05:40.676238</td>\n",
       "      <td>Monday</td>\n",
       "    </tr>\n",
       "    <tr>\n",
       "      <th>14998</th>\n",
       "      <td>1538109</td>\n",
       "      <td>2023-03-27 23:52:44</td>\n",
       "      <td>2023-03-28 00:08:41.810358</td>\n",
       "      <td>Monday</td>\n",
       "    </tr>\n",
       "    <tr>\n",
       "      <th>14999</th>\n",
       "      <td>1538110</td>\n",
       "      <td>2023-03-27 23:58:20</td>\n",
       "      <td>2023-03-28 00:13:42.499311</td>\n",
       "      <td>Monday</td>\n",
       "    </tr>\n",
       "  </tbody>\n",
       "</table>\n",
       "<p>15000 rows × 4 columns</p>\n",
       "</div>"
      ],
      "text/plain": [
       "       order_id     order_placed_at         order_delivered_at  \\\n",
       "0       1523111 2023-03-01 00:00:59 2023-03-01 00:18:07.443132   \n",
       "1       1523112 2023-03-01 00:03:59 2023-03-01 00:19:34.925241   \n",
       "2       1523113 2023-03-01 00:07:22 2023-03-01 00:22:28.291385   \n",
       "3       1523114 2023-03-01 00:07:47 2023-03-01 00:46:19.019399   \n",
       "4       1523115 2023-03-01 00:09:03 2023-03-01 00:25:13.619056   \n",
       "...         ...                 ...                        ...   \n",
       "14995   1538106 2023-03-27 23:37:05 2023-03-27 23:52:37.409378   \n",
       "14996   1538107 2023-03-27 23:47:38 2023-03-28 00:04:22.672912   \n",
       "14997   1538108 2023-03-27 23:50:16 2023-03-28 00:05:40.676238   \n",
       "14998   1538109 2023-03-27 23:52:44 2023-03-28 00:08:41.810358   \n",
       "14999   1538110 2023-03-27 23:58:20 2023-03-28 00:13:42.499311   \n",
       "\n",
       "      days_at_order_placed  \n",
       "0                Wednesday  \n",
       "1                Wednesday  \n",
       "2                Wednesday  \n",
       "3                Wednesday  \n",
       "4                Wednesday  \n",
       "...                    ...  \n",
       "14995               Monday  \n",
       "14996               Monday  \n",
       "14997               Monday  \n",
       "14998               Monday  \n",
       "14999               Monday  \n",
       "\n",
       "[15000 rows x 4 columns]"
      ]
     },
     "execution_count": 18,
     "metadata": {},
     "output_type": "execute_result"
    }
   ],
   "source": [
    "df"
   ]
  },
  {
   "cell_type": "code",
   "execution_count": 19,
   "id": "1bf1cd99",
   "metadata": {},
   "outputs": [],
   "source": [
    "## Time"
   ]
  },
  {
   "cell_type": "code",
   "execution_count": 20,
   "id": "da5387fb",
   "metadata": {},
   "outputs": [
    {
     "data": {
      "text/html": [
       "<div>\n",
       "<style scoped>\n",
       "    .dataframe tbody tr th:only-of-type {\n",
       "        vertical-align: middle;\n",
       "    }\n",
       "\n",
       "    .dataframe tbody tr th {\n",
       "        vertical-align: top;\n",
       "    }\n",
       "\n",
       "    .dataframe thead th {\n",
       "        text-align: right;\n",
       "    }\n",
       "</style>\n",
       "<table border=\"1\" class=\"dataframe\">\n",
       "  <thead>\n",
       "    <tr style=\"text-align: right;\">\n",
       "      <th></th>\n",
       "      <th>order_id</th>\n",
       "      <th>order_placed_at</th>\n",
       "      <th>order_delivered_at</th>\n",
       "      <th>days_at_order_placed</th>\n",
       "      <th>time_order_placed_at</th>\n",
       "      <th>days_at_order_delivered</th>\n",
       "      <th>time_order_delivered_at</th>\n",
       "    </tr>\n",
       "  </thead>\n",
       "  <tbody>\n",
       "    <tr>\n",
       "      <th>0</th>\n",
       "      <td>1523111</td>\n",
       "      <td>2023-03-01 00:00:59</td>\n",
       "      <td>2023-03-01 00:18:07.443132</td>\n",
       "      <td>Wednesday</td>\n",
       "      <td>00:00:59</td>\n",
       "      <td>Wednesday</td>\n",
       "      <td>00:18:07.443132</td>\n",
       "    </tr>\n",
       "    <tr>\n",
       "      <th>1</th>\n",
       "      <td>1523112</td>\n",
       "      <td>2023-03-01 00:03:59</td>\n",
       "      <td>2023-03-01 00:19:34.925241</td>\n",
       "      <td>Wednesday</td>\n",
       "      <td>00:03:59</td>\n",
       "      <td>Wednesday</td>\n",
       "      <td>00:19:34.925241</td>\n",
       "    </tr>\n",
       "    <tr>\n",
       "      <th>2</th>\n",
       "      <td>1523113</td>\n",
       "      <td>2023-03-01 00:07:22</td>\n",
       "      <td>2023-03-01 00:22:28.291385</td>\n",
       "      <td>Wednesday</td>\n",
       "      <td>00:07:22</td>\n",
       "      <td>Wednesday</td>\n",
       "      <td>00:22:28.291385</td>\n",
       "    </tr>\n",
       "    <tr>\n",
       "      <th>3</th>\n",
       "      <td>1523114</td>\n",
       "      <td>2023-03-01 00:07:47</td>\n",
       "      <td>2023-03-01 00:46:19.019399</td>\n",
       "      <td>Wednesday</td>\n",
       "      <td>00:07:47</td>\n",
       "      <td>Wednesday</td>\n",
       "      <td>00:46:19.019399</td>\n",
       "    </tr>\n",
       "    <tr>\n",
       "      <th>4</th>\n",
       "      <td>1523115</td>\n",
       "      <td>2023-03-01 00:09:03</td>\n",
       "      <td>2023-03-01 00:25:13.619056</td>\n",
       "      <td>Wednesday</td>\n",
       "      <td>00:09:03</td>\n",
       "      <td>Wednesday</td>\n",
       "      <td>00:25:13.619056</td>\n",
       "    </tr>\n",
       "    <tr>\n",
       "      <th>...</th>\n",
       "      <td>...</td>\n",
       "      <td>...</td>\n",
       "      <td>...</td>\n",
       "      <td>...</td>\n",
       "      <td>...</td>\n",
       "      <td>...</td>\n",
       "      <td>...</td>\n",
       "    </tr>\n",
       "    <tr>\n",
       "      <th>14995</th>\n",
       "      <td>1538106</td>\n",
       "      <td>2023-03-27 23:37:05</td>\n",
       "      <td>2023-03-27 23:52:37.409378</td>\n",
       "      <td>Monday</td>\n",
       "      <td>23:37:05</td>\n",
       "      <td>Monday</td>\n",
       "      <td>23:52:37.409378</td>\n",
       "    </tr>\n",
       "    <tr>\n",
       "      <th>14996</th>\n",
       "      <td>1538107</td>\n",
       "      <td>2023-03-27 23:47:38</td>\n",
       "      <td>2023-03-28 00:04:22.672912</td>\n",
       "      <td>Monday</td>\n",
       "      <td>23:47:38</td>\n",
       "      <td>Tuesday</td>\n",
       "      <td>00:04:22.672912</td>\n",
       "    </tr>\n",
       "    <tr>\n",
       "      <th>14997</th>\n",
       "      <td>1538108</td>\n",
       "      <td>2023-03-27 23:50:16</td>\n",
       "      <td>2023-03-28 00:05:40.676238</td>\n",
       "      <td>Monday</td>\n",
       "      <td>23:50:16</td>\n",
       "      <td>Tuesday</td>\n",
       "      <td>00:05:40.676238</td>\n",
       "    </tr>\n",
       "    <tr>\n",
       "      <th>14998</th>\n",
       "      <td>1538109</td>\n",
       "      <td>2023-03-27 23:52:44</td>\n",
       "      <td>2023-03-28 00:08:41.810358</td>\n",
       "      <td>Monday</td>\n",
       "      <td>23:52:44</td>\n",
       "      <td>Tuesday</td>\n",
       "      <td>00:08:41.810358</td>\n",
       "    </tr>\n",
       "    <tr>\n",
       "      <th>14999</th>\n",
       "      <td>1538110</td>\n",
       "      <td>2023-03-27 23:58:20</td>\n",
       "      <td>2023-03-28 00:13:42.499311</td>\n",
       "      <td>Monday</td>\n",
       "      <td>23:58:20</td>\n",
       "      <td>Tuesday</td>\n",
       "      <td>00:13:42.499311</td>\n",
       "    </tr>\n",
       "  </tbody>\n",
       "</table>\n",
       "<p>15000 rows × 7 columns</p>\n",
       "</div>"
      ],
      "text/plain": [
       "       order_id     order_placed_at         order_delivered_at  \\\n",
       "0       1523111 2023-03-01 00:00:59 2023-03-01 00:18:07.443132   \n",
       "1       1523112 2023-03-01 00:03:59 2023-03-01 00:19:34.925241   \n",
       "2       1523113 2023-03-01 00:07:22 2023-03-01 00:22:28.291385   \n",
       "3       1523114 2023-03-01 00:07:47 2023-03-01 00:46:19.019399   \n",
       "4       1523115 2023-03-01 00:09:03 2023-03-01 00:25:13.619056   \n",
       "...         ...                 ...                        ...   \n",
       "14995   1538106 2023-03-27 23:37:05 2023-03-27 23:52:37.409378   \n",
       "14996   1538107 2023-03-27 23:47:38 2023-03-28 00:04:22.672912   \n",
       "14997   1538108 2023-03-27 23:50:16 2023-03-28 00:05:40.676238   \n",
       "14998   1538109 2023-03-27 23:52:44 2023-03-28 00:08:41.810358   \n",
       "14999   1538110 2023-03-27 23:58:20 2023-03-28 00:13:42.499311   \n",
       "\n",
       "      days_at_order_placed time_order_placed_at days_at_order_delivered  \\\n",
       "0                Wednesday             00:00:59               Wednesday   \n",
       "1                Wednesday             00:03:59               Wednesday   \n",
       "2                Wednesday             00:07:22               Wednesday   \n",
       "3                Wednesday             00:07:47               Wednesday   \n",
       "4                Wednesday             00:09:03               Wednesday   \n",
       "...                    ...                  ...                     ...   \n",
       "14995               Monday             23:37:05                  Monday   \n",
       "14996               Monday             23:47:38                 Tuesday   \n",
       "14997               Monday             23:50:16                 Tuesday   \n",
       "14998               Monday             23:52:44                 Tuesday   \n",
       "14999               Monday             23:58:20                 Tuesday   \n",
       "\n",
       "      time_order_delivered_at  \n",
       "0             00:18:07.443132  \n",
       "1             00:19:34.925241  \n",
       "2             00:22:28.291385  \n",
       "3             00:46:19.019399  \n",
       "4             00:25:13.619056  \n",
       "...                       ...  \n",
       "14995         23:52:37.409378  \n",
       "14996         00:04:22.672912  \n",
       "14997         00:05:40.676238  \n",
       "14998         00:08:41.810358  \n",
       "14999         00:13:42.499311  \n",
       "\n",
       "[15000 rows x 7 columns]"
      ]
     },
     "execution_count": 20,
     "metadata": {},
     "output_type": "execute_result"
    }
   ],
   "source": [
    "df['time_order_placed_at']=df['order_placed_at'].dt.time\n",
    "df['days_at_order_delivered']= df['order_delivered_at'].dt.strftime('%A')\n",
    "df['time_order_delivered_at']=df['order_delivered_at'].dt.time\n",
    "df"
   ]
  },
  {
   "cell_type": "code",
   "execution_count": 27,
   "id": "39d236b6",
   "metadata": {},
   "outputs": [],
   "source": [
    "df['order_placed_at'].dt.week\n",
    "df['week_order_placed_at'] = (df['order_placed_at'].dt.weekofyear - df['order_placed_at'].dt.weekofyear.min()) + 1"
   ]
  },
  {
   "cell_type": "code",
   "execution_count": 28,
   "id": "efb39cf9",
   "metadata": {},
   "outputs": [
    {
     "data": {
      "text/html": [
       "<div>\n",
       "<style scoped>\n",
       "    .dataframe tbody tr th:only-of-type {\n",
       "        vertical-align: middle;\n",
       "    }\n",
       "\n",
       "    .dataframe tbody tr th {\n",
       "        vertical-align: top;\n",
       "    }\n",
       "\n",
       "    .dataframe thead th {\n",
       "        text-align: right;\n",
       "    }\n",
       "</style>\n",
       "<table border=\"1\" class=\"dataframe\">\n",
       "  <thead>\n",
       "    <tr style=\"text-align: right;\">\n",
       "      <th></th>\n",
       "      <th>order_id</th>\n",
       "      <th>order_placed_at</th>\n",
       "      <th>order_delivered_at</th>\n",
       "      <th>days_at_order_placed</th>\n",
       "      <th>time_order_placed_at</th>\n",
       "      <th>days_at_order_delivered</th>\n",
       "      <th>time_order_delivered_at</th>\n",
       "      <th>week_order_placed_at</th>\n",
       "    </tr>\n",
       "  </thead>\n",
       "  <tbody>\n",
       "    <tr>\n",
       "      <th>0</th>\n",
       "      <td>1523111</td>\n",
       "      <td>2023-03-01 00:00:59</td>\n",
       "      <td>2023-03-01 00:18:07.443132</td>\n",
       "      <td>Wednesday</td>\n",
       "      <td>00:00:59</td>\n",
       "      <td>Wednesday</td>\n",
       "      <td>00:18:07.443132</td>\n",
       "      <td>1</td>\n",
       "    </tr>\n",
       "    <tr>\n",
       "      <th>1</th>\n",
       "      <td>1523112</td>\n",
       "      <td>2023-03-01 00:03:59</td>\n",
       "      <td>2023-03-01 00:19:34.925241</td>\n",
       "      <td>Wednesday</td>\n",
       "      <td>00:03:59</td>\n",
       "      <td>Wednesday</td>\n",
       "      <td>00:19:34.925241</td>\n",
       "      <td>1</td>\n",
       "    </tr>\n",
       "    <tr>\n",
       "      <th>2</th>\n",
       "      <td>1523113</td>\n",
       "      <td>2023-03-01 00:07:22</td>\n",
       "      <td>2023-03-01 00:22:28.291385</td>\n",
       "      <td>Wednesday</td>\n",
       "      <td>00:07:22</td>\n",
       "      <td>Wednesday</td>\n",
       "      <td>00:22:28.291385</td>\n",
       "      <td>1</td>\n",
       "    </tr>\n",
       "    <tr>\n",
       "      <th>3</th>\n",
       "      <td>1523114</td>\n",
       "      <td>2023-03-01 00:07:47</td>\n",
       "      <td>2023-03-01 00:46:19.019399</td>\n",
       "      <td>Wednesday</td>\n",
       "      <td>00:07:47</td>\n",
       "      <td>Wednesday</td>\n",
       "      <td>00:46:19.019399</td>\n",
       "      <td>1</td>\n",
       "    </tr>\n",
       "    <tr>\n",
       "      <th>4</th>\n",
       "      <td>1523115</td>\n",
       "      <td>2023-03-01 00:09:03</td>\n",
       "      <td>2023-03-01 00:25:13.619056</td>\n",
       "      <td>Wednesday</td>\n",
       "      <td>00:09:03</td>\n",
       "      <td>Wednesday</td>\n",
       "      <td>00:25:13.619056</td>\n",
       "      <td>1</td>\n",
       "    </tr>\n",
       "    <tr>\n",
       "      <th>...</th>\n",
       "      <td>...</td>\n",
       "      <td>...</td>\n",
       "      <td>...</td>\n",
       "      <td>...</td>\n",
       "      <td>...</td>\n",
       "      <td>...</td>\n",
       "      <td>...</td>\n",
       "      <td>...</td>\n",
       "    </tr>\n",
       "    <tr>\n",
       "      <th>14995</th>\n",
       "      <td>1538106</td>\n",
       "      <td>2023-03-27 23:37:05</td>\n",
       "      <td>2023-03-27 23:52:37.409378</td>\n",
       "      <td>Monday</td>\n",
       "      <td>23:37:05</td>\n",
       "      <td>Monday</td>\n",
       "      <td>23:52:37.409378</td>\n",
       "      <td>5</td>\n",
       "    </tr>\n",
       "    <tr>\n",
       "      <th>14996</th>\n",
       "      <td>1538107</td>\n",
       "      <td>2023-03-27 23:47:38</td>\n",
       "      <td>2023-03-28 00:04:22.672912</td>\n",
       "      <td>Monday</td>\n",
       "      <td>23:47:38</td>\n",
       "      <td>Tuesday</td>\n",
       "      <td>00:04:22.672912</td>\n",
       "      <td>5</td>\n",
       "    </tr>\n",
       "    <tr>\n",
       "      <th>14997</th>\n",
       "      <td>1538108</td>\n",
       "      <td>2023-03-27 23:50:16</td>\n",
       "      <td>2023-03-28 00:05:40.676238</td>\n",
       "      <td>Monday</td>\n",
       "      <td>23:50:16</td>\n",
       "      <td>Tuesday</td>\n",
       "      <td>00:05:40.676238</td>\n",
       "      <td>5</td>\n",
       "    </tr>\n",
       "    <tr>\n",
       "      <th>14998</th>\n",
       "      <td>1538109</td>\n",
       "      <td>2023-03-27 23:52:44</td>\n",
       "      <td>2023-03-28 00:08:41.810358</td>\n",
       "      <td>Monday</td>\n",
       "      <td>23:52:44</td>\n",
       "      <td>Tuesday</td>\n",
       "      <td>00:08:41.810358</td>\n",
       "      <td>5</td>\n",
       "    </tr>\n",
       "    <tr>\n",
       "      <th>14999</th>\n",
       "      <td>1538110</td>\n",
       "      <td>2023-03-27 23:58:20</td>\n",
       "      <td>2023-03-28 00:13:42.499311</td>\n",
       "      <td>Monday</td>\n",
       "      <td>23:58:20</td>\n",
       "      <td>Tuesday</td>\n",
       "      <td>00:13:42.499311</td>\n",
       "      <td>5</td>\n",
       "    </tr>\n",
       "  </tbody>\n",
       "</table>\n",
       "<p>15000 rows × 8 columns</p>\n",
       "</div>"
      ],
      "text/plain": [
       "       order_id     order_placed_at         order_delivered_at  \\\n",
       "0       1523111 2023-03-01 00:00:59 2023-03-01 00:18:07.443132   \n",
       "1       1523112 2023-03-01 00:03:59 2023-03-01 00:19:34.925241   \n",
       "2       1523113 2023-03-01 00:07:22 2023-03-01 00:22:28.291385   \n",
       "3       1523114 2023-03-01 00:07:47 2023-03-01 00:46:19.019399   \n",
       "4       1523115 2023-03-01 00:09:03 2023-03-01 00:25:13.619056   \n",
       "...         ...                 ...                        ...   \n",
       "14995   1538106 2023-03-27 23:37:05 2023-03-27 23:52:37.409378   \n",
       "14996   1538107 2023-03-27 23:47:38 2023-03-28 00:04:22.672912   \n",
       "14997   1538108 2023-03-27 23:50:16 2023-03-28 00:05:40.676238   \n",
       "14998   1538109 2023-03-27 23:52:44 2023-03-28 00:08:41.810358   \n",
       "14999   1538110 2023-03-27 23:58:20 2023-03-28 00:13:42.499311   \n",
       "\n",
       "      days_at_order_placed time_order_placed_at days_at_order_delivered  \\\n",
       "0                Wednesday             00:00:59               Wednesday   \n",
       "1                Wednesday             00:03:59               Wednesday   \n",
       "2                Wednesday             00:07:22               Wednesday   \n",
       "3                Wednesday             00:07:47               Wednesday   \n",
       "4                Wednesday             00:09:03               Wednesday   \n",
       "...                    ...                  ...                     ...   \n",
       "14995               Monday             23:37:05                  Monday   \n",
       "14996               Monday             23:47:38                 Tuesday   \n",
       "14997               Monday             23:50:16                 Tuesday   \n",
       "14998               Monday             23:52:44                 Tuesday   \n",
       "14999               Monday             23:58:20                 Tuesday   \n",
       "\n",
       "      time_order_delivered_at  week_order_placed_at  \n",
       "0             00:18:07.443132                     1  \n",
       "1             00:19:34.925241                     1  \n",
       "2             00:22:28.291385                     1  \n",
       "3             00:46:19.019399                     1  \n",
       "4             00:25:13.619056                     1  \n",
       "...                       ...                   ...  \n",
       "14995         23:52:37.409378                     5  \n",
       "14996         00:04:22.672912                     5  \n",
       "14997         00:05:40.676238                     5  \n",
       "14998         00:08:41.810358                     5  \n",
       "14999         00:13:42.499311                     5  \n",
       "\n",
       "[15000 rows x 8 columns]"
      ]
     },
     "execution_count": 28,
     "metadata": {},
     "output_type": "execute_result"
    }
   ],
   "source": [
    "df"
   ]
  },
  {
   "cell_type": "code",
   "execution_count": 29,
   "id": "354f9d3f",
   "metadata": {},
   "outputs": [
    {
     "name": "stdout",
     "output_type": "stream",
     "text": [
      "<class 'pandas.core.frame.DataFrame'>\n",
      "RangeIndex: 15000 entries, 0 to 14999\n",
      "Data columns (total 8 columns):\n",
      " #   Column                   Non-Null Count  Dtype         \n",
      "---  ------                   --------------  -----         \n",
      " 0   order_id                 15000 non-null  int64         \n",
      " 1   order_placed_at          15000 non-null  datetime64[ns]\n",
      " 2   order_delivered_at       15000 non-null  datetime64[ns]\n",
      " 3   days_at_order_placed     15000 non-null  object        \n",
      " 4   time_order_placed_at     15000 non-null  object        \n",
      " 5   days_at_order_delivered  15000 non-null  object        \n",
      " 6   time_order_delivered_at  15000 non-null  object        \n",
      " 7   week_order_placed_at     15000 non-null  int64         \n",
      "dtypes: datetime64[ns](2), int64(2), object(4)\n",
      "memory usage: 937.6+ KB\n"
     ]
    }
   ],
   "source": [
    "df['time_order_placed_at']=pd.to_datetime(df['order_placed_at'], format='%H:%M').dt.time\n",
    "df['time_order_delivered_at']=pd.to_datetime(df['order_delivered_at'], format='%H:%M').dt.time\n",
    "df.info()"
   ]
  },
  {
   "cell_type": "code",
   "execution_count": 31,
   "id": "51d27d7f",
   "metadata": {},
   "outputs": [],
   "source": [
    "## Lead Time"
   ]
  },
  {
   "cell_type": "code",
   "execution_count": 32,
   "id": "f67a6fbc",
   "metadata": {},
   "outputs": [],
   "source": [
    "df['time_take']=df['order_delivered_at'] - df['order_placed_at']"
   ]
  },
  {
   "cell_type": "code",
   "execution_count": 33,
   "id": "d2bb6bf9",
   "metadata": {},
   "outputs": [
    {
     "data": {
      "text/html": [
       "<div>\n",
       "<style scoped>\n",
       "    .dataframe tbody tr th:only-of-type {\n",
       "        vertical-align: middle;\n",
       "    }\n",
       "\n",
       "    .dataframe tbody tr th {\n",
       "        vertical-align: top;\n",
       "    }\n",
       "\n",
       "    .dataframe thead th {\n",
       "        text-align: right;\n",
       "    }\n",
       "</style>\n",
       "<table border=\"1\" class=\"dataframe\">\n",
       "  <thead>\n",
       "    <tr style=\"text-align: right;\">\n",
       "      <th></th>\n",
       "      <th>order_id</th>\n",
       "      <th>order_placed_at</th>\n",
       "      <th>order_delivered_at</th>\n",
       "      <th>days_at_order_placed</th>\n",
       "      <th>time_order_placed_at</th>\n",
       "      <th>days_at_order_delivered</th>\n",
       "      <th>time_order_delivered_at</th>\n",
       "      <th>week_order_placed_at</th>\n",
       "      <th>time_take</th>\n",
       "    </tr>\n",
       "  </thead>\n",
       "  <tbody>\n",
       "    <tr>\n",
       "      <th>0</th>\n",
       "      <td>1523111</td>\n",
       "      <td>2023-03-01 00:00:59</td>\n",
       "      <td>2023-03-01 00:18:07.443132</td>\n",
       "      <td>Wednesday</td>\n",
       "      <td>00:00:59</td>\n",
       "      <td>Wednesday</td>\n",
       "      <td>00:18:07.443132</td>\n",
       "      <td>1</td>\n",
       "      <td>0 days 00:17:08.443132</td>\n",
       "    </tr>\n",
       "    <tr>\n",
       "      <th>1</th>\n",
       "      <td>1523112</td>\n",
       "      <td>2023-03-01 00:03:59</td>\n",
       "      <td>2023-03-01 00:19:34.925241</td>\n",
       "      <td>Wednesday</td>\n",
       "      <td>00:03:59</td>\n",
       "      <td>Wednesday</td>\n",
       "      <td>00:19:34.925241</td>\n",
       "      <td>1</td>\n",
       "      <td>0 days 00:15:35.925241</td>\n",
       "    </tr>\n",
       "    <tr>\n",
       "      <th>2</th>\n",
       "      <td>1523113</td>\n",
       "      <td>2023-03-01 00:07:22</td>\n",
       "      <td>2023-03-01 00:22:28.291385</td>\n",
       "      <td>Wednesday</td>\n",
       "      <td>00:07:22</td>\n",
       "      <td>Wednesday</td>\n",
       "      <td>00:22:28.291385</td>\n",
       "      <td>1</td>\n",
       "      <td>0 days 00:15:06.291385</td>\n",
       "    </tr>\n",
       "    <tr>\n",
       "      <th>3</th>\n",
       "      <td>1523114</td>\n",
       "      <td>2023-03-01 00:07:47</td>\n",
       "      <td>2023-03-01 00:46:19.019399</td>\n",
       "      <td>Wednesday</td>\n",
       "      <td>00:07:47</td>\n",
       "      <td>Wednesday</td>\n",
       "      <td>00:46:19.019399</td>\n",
       "      <td>1</td>\n",
       "      <td>0 days 00:38:32.019399</td>\n",
       "    </tr>\n",
       "    <tr>\n",
       "      <th>4</th>\n",
       "      <td>1523115</td>\n",
       "      <td>2023-03-01 00:09:03</td>\n",
       "      <td>2023-03-01 00:25:13.619056</td>\n",
       "      <td>Wednesday</td>\n",
       "      <td>00:09:03</td>\n",
       "      <td>Wednesday</td>\n",
       "      <td>00:25:13.619056</td>\n",
       "      <td>1</td>\n",
       "      <td>0 days 00:16:10.619056</td>\n",
       "    </tr>\n",
       "    <tr>\n",
       "      <th>...</th>\n",
       "      <td>...</td>\n",
       "      <td>...</td>\n",
       "      <td>...</td>\n",
       "      <td>...</td>\n",
       "      <td>...</td>\n",
       "      <td>...</td>\n",
       "      <td>...</td>\n",
       "      <td>...</td>\n",
       "      <td>...</td>\n",
       "    </tr>\n",
       "    <tr>\n",
       "      <th>14995</th>\n",
       "      <td>1538106</td>\n",
       "      <td>2023-03-27 23:37:05</td>\n",
       "      <td>2023-03-27 23:52:37.409378</td>\n",
       "      <td>Monday</td>\n",
       "      <td>23:37:05</td>\n",
       "      <td>Monday</td>\n",
       "      <td>23:52:37.409378</td>\n",
       "      <td>5</td>\n",
       "      <td>0 days 00:15:32.409378</td>\n",
       "    </tr>\n",
       "    <tr>\n",
       "      <th>14996</th>\n",
       "      <td>1538107</td>\n",
       "      <td>2023-03-27 23:47:38</td>\n",
       "      <td>2023-03-28 00:04:22.672912</td>\n",
       "      <td>Monday</td>\n",
       "      <td>23:47:38</td>\n",
       "      <td>Tuesday</td>\n",
       "      <td>00:04:22.672912</td>\n",
       "      <td>5</td>\n",
       "      <td>0 days 00:16:44.672912</td>\n",
       "    </tr>\n",
       "    <tr>\n",
       "      <th>14997</th>\n",
       "      <td>1538108</td>\n",
       "      <td>2023-03-27 23:50:16</td>\n",
       "      <td>2023-03-28 00:05:40.676238</td>\n",
       "      <td>Monday</td>\n",
       "      <td>23:50:16</td>\n",
       "      <td>Tuesday</td>\n",
       "      <td>00:05:40.676238</td>\n",
       "      <td>5</td>\n",
       "      <td>0 days 00:15:24.676238</td>\n",
       "    </tr>\n",
       "    <tr>\n",
       "      <th>14998</th>\n",
       "      <td>1538109</td>\n",
       "      <td>2023-03-27 23:52:44</td>\n",
       "      <td>2023-03-28 00:08:41.810358</td>\n",
       "      <td>Monday</td>\n",
       "      <td>23:52:44</td>\n",
       "      <td>Tuesday</td>\n",
       "      <td>00:08:41.810358</td>\n",
       "      <td>5</td>\n",
       "      <td>0 days 00:15:57.810358</td>\n",
       "    </tr>\n",
       "    <tr>\n",
       "      <th>14999</th>\n",
       "      <td>1538110</td>\n",
       "      <td>2023-03-27 23:58:20</td>\n",
       "      <td>2023-03-28 00:13:42.499311</td>\n",
       "      <td>Monday</td>\n",
       "      <td>23:58:20</td>\n",
       "      <td>Tuesday</td>\n",
       "      <td>00:13:42.499311</td>\n",
       "      <td>5</td>\n",
       "      <td>0 days 00:15:22.499311</td>\n",
       "    </tr>\n",
       "  </tbody>\n",
       "</table>\n",
       "<p>15000 rows × 9 columns</p>\n",
       "</div>"
      ],
      "text/plain": [
       "       order_id     order_placed_at         order_delivered_at  \\\n",
       "0       1523111 2023-03-01 00:00:59 2023-03-01 00:18:07.443132   \n",
       "1       1523112 2023-03-01 00:03:59 2023-03-01 00:19:34.925241   \n",
       "2       1523113 2023-03-01 00:07:22 2023-03-01 00:22:28.291385   \n",
       "3       1523114 2023-03-01 00:07:47 2023-03-01 00:46:19.019399   \n",
       "4       1523115 2023-03-01 00:09:03 2023-03-01 00:25:13.619056   \n",
       "...         ...                 ...                        ...   \n",
       "14995   1538106 2023-03-27 23:37:05 2023-03-27 23:52:37.409378   \n",
       "14996   1538107 2023-03-27 23:47:38 2023-03-28 00:04:22.672912   \n",
       "14997   1538108 2023-03-27 23:50:16 2023-03-28 00:05:40.676238   \n",
       "14998   1538109 2023-03-27 23:52:44 2023-03-28 00:08:41.810358   \n",
       "14999   1538110 2023-03-27 23:58:20 2023-03-28 00:13:42.499311   \n",
       "\n",
       "      days_at_order_placed time_order_placed_at days_at_order_delivered  \\\n",
       "0                Wednesday             00:00:59               Wednesday   \n",
       "1                Wednesday             00:03:59               Wednesday   \n",
       "2                Wednesday             00:07:22               Wednesday   \n",
       "3                Wednesday             00:07:47               Wednesday   \n",
       "4                Wednesday             00:09:03               Wednesday   \n",
       "...                    ...                  ...                     ...   \n",
       "14995               Monday             23:37:05                  Monday   \n",
       "14996               Monday             23:47:38                 Tuesday   \n",
       "14997               Monday             23:50:16                 Tuesday   \n",
       "14998               Monday             23:52:44                 Tuesday   \n",
       "14999               Monday             23:58:20                 Tuesday   \n",
       "\n",
       "      time_order_delivered_at  week_order_placed_at              time_take  \n",
       "0             00:18:07.443132                     1 0 days 00:17:08.443132  \n",
       "1             00:19:34.925241                     1 0 days 00:15:35.925241  \n",
       "2             00:22:28.291385                     1 0 days 00:15:06.291385  \n",
       "3             00:46:19.019399                     1 0 days 00:38:32.019399  \n",
       "4             00:25:13.619056                     1 0 days 00:16:10.619056  \n",
       "...                       ...                   ...                    ...  \n",
       "14995         23:52:37.409378                     5 0 days 00:15:32.409378  \n",
       "14996         00:04:22.672912                     5 0 days 00:16:44.672912  \n",
       "14997         00:05:40.676238                     5 0 days 00:15:24.676238  \n",
       "14998         00:08:41.810358                     5 0 days 00:15:57.810358  \n",
       "14999         00:13:42.499311                     5 0 days 00:15:22.499311  \n",
       "\n",
       "[15000 rows x 9 columns]"
      ]
     },
     "execution_count": 33,
     "metadata": {},
     "output_type": "execute_result"
    }
   ],
   "source": [
    "df"
   ]
  },
  {
   "cell_type": "code",
   "execution_count": 35,
   "id": "cd12c5d5",
   "metadata": {},
   "outputs": [
    {
     "data": {
      "text/plain": [
       "604"
      ]
     },
     "execution_count": 35,
     "metadata": {},
     "output_type": "execute_result"
    }
   ],
   "source": [
    "df_filtered = df[df['time_take'] > datetime.timedelta(minutes=30)]\n",
    "len(df_filtered)"
   ]
  },
  {
   "cell_type": "markdown",
   "id": "5a488791",
   "metadata": {},
   "source": [
    "##  Analysis"
   ]
  },
  {
   "cell_type": "code",
   "execution_count": 36,
   "id": "bc6883d1",
   "metadata": {},
   "outputs": [
    {
     "data": {
      "text/plain": [
       "<AxesSubplot:xlabel='days_at_order_placed', ylabel='count'>"
      ]
     },
     "execution_count": 36,
     "metadata": {},
     "output_type": "execute_result"
    },
    {
     "data": {
      "image/png": "[encoded data removed]",
      "text/plain": [
       "<Figure size 432x288 with 1 Axes>"
      ]
     },
     "metadata": {
      "needs_background": "light"
     },
     "output_type": "display_data"
    }
   ],
   "source": [
    "sns.countplot(x=df['days_at_order_placed'])"
   ]
  },
  {
   "cell_type": "code",
   "execution_count": 37,
   "id": "25388769",
   "metadata": {},
   "outputs": [
    {
     "data": {
      "text/plain": [
       "Thursday     2280\n",
       "Wednesday    2259\n",
       "Monday       2256\n",
       "Friday       2223\n",
       "Saturday     2209\n",
       "Sunday       2191\n",
       "Tuesday      1582\n",
       "Name: days_at_order_placed, dtype: int64"
      ]
     },
     "execution_count": 37,
     "metadata": {},
     "output_type": "execute_result"
    }
   ],
   "source": [
    "df['days_at_order_placed'].value_counts()"
   ]
  },
  {
   "cell_type": "code",
   "execution_count": 38,
   "id": "ac0efecc",
   "metadata": {},
   "outputs": [
    {
     "data": {
      "text/plain": [
       "2    3999\n",
       "4    3935\n",
       "3    3725\n",
       "1    2790\n",
       "5     551\n",
       "Name: week_order_placed_at, dtype: int64"
      ]
     },
     "execution_count": 38,
     "metadata": {},
     "output_type": "execute_result"
    }
   ],
   "source": [
    "df['week_order_placed_at'].value_counts()"
   ]
  },
  {
   "cell_type": "code",
   "execution_count": 39,
   "id": "e759eddf",
   "metadata": {},
   "outputs": [
    {
     "data": {
      "text/plain": [
       "<AxesSubplot:xlabel='week_order_placed_at', ylabel='count'>"
      ]
     },
     "execution_count": 39,
     "metadata": {},
     "output_type": "execute_result"
    },
    {
     "data": {
      "image/png": "[encoded data removed]",
      "text/plain": [
       "<Figure size 432x288 with 1 Axes>"
      ]
     },
     "metadata": {
      "needs_background": "light"
     },
     "output_type": "display_data"
    }
   ],
   "source": [
    "sns.countplot(x=df['week_order_placed_at'])"
   ]
  },
  {
   "cell_type": "code",
   "execution_count": 43,
   "id": "f88b0773",
   "metadata": {
    "scrolled": true
   },
   "outputs": [
    {
     "data": {
      "text/plain": [
       "Timedelta('0 days 00:15:00.000620')"
      ]
     },
     "execution_count": 43,
     "metadata": {},
     "output_type": "execute_result"
    }
   ],
   "source": [
    "# Minimum Time taken\n",
    "df['time_take'].min()"
   ]
  },
  {
   "cell_type": "code",
   "execution_count": 44,
   "id": "6c844189",
   "metadata": {},
   "outputs": [
    {
     "data": {
      "text/plain": [
       "Timedelta('5 days 01:39:49.882496')"
      ]
     },
     "execution_count": 44,
     "metadata": {},
     "output_type": "execute_result"
    }
   ],
   "source": [
    "# Maximum Time Taken\n",
    "df['time_take'].max()"
   ]
  },
  {
   "cell_type": "code",
   "execution_count": 45,
   "id": "66851967",
   "metadata": {},
   "outputs": [
    {
     "data": {
      "text/plain": [
       "Timedelta('0 days 00:20:29.963359588')"
      ]
     },
     "execution_count": 45,
     "metadata": {},
     "output_type": "execute_result"
    }
   ],
   "source": [
    "#Mean Time taken\n",
    "df['time_take'].mean()"
   ]
  },
  {
   "cell_type": "code",
   "execution_count": 46,
   "id": "ef34e9d8",
   "metadata": {},
   "outputs": [
    {
     "data": {
      "text/plain": [
       "Timedelta('0 days 00:15:47.879164')"
      ]
     },
     "execution_count": 46,
     "metadata": {},
     "output_type": "execute_result"
    }
   ],
   "source": [
    "df['time_take'].median()"
   ]
  },
  {
   "cell_type": "code",
   "execution_count": 47,
   "id": "ba34ecef",
   "metadata": {},
   "outputs": [
    {
     "data": {
      "text/plain": [
       "2023-03-20    597\n",
       "2023-03-22    591\n",
       "2023-03-02    588\n",
       "2023-03-10    587\n",
       "2023-03-23    583\n",
       "2023-03-06    582\n",
       "2023-03-12    582\n",
       "2023-03-08    578\n",
       "2023-03-07    570\n",
       "2023-03-04    567\n",
       "2023-03-24    565\n",
       "2023-03-09    564\n",
       "2023-03-18    559\n",
       "2023-03-27    551\n",
       "2023-03-05    551\n",
       "2023-03-01    550\n",
       "2023-03-25    547\n",
       "2023-03-16    545\n",
       "2023-03-15    540\n",
       "2023-03-17    537\n",
       "2023-03-11    536\n",
       "2023-03-03    534\n",
       "2023-03-26    532\n",
       "2023-03-19    526\n",
       "2023-03-13    526\n",
       "2023-03-21    520\n",
       "2023-03-14    492\n",
       "Name: date, dtype: int64"
      ]
     },
     "execution_count": 47,
     "metadata": {},
     "output_type": "execute_result"
    }
   ],
   "source": [
    "df['date']=df['order_placed_at'].dt.date\n",
    "df['date'].value_counts()"
   ]
  },
  {
   "cell_type": "code",
   "execution_count": 48,
   "id": "40720fc5",
   "metadata": {},
   "outputs": [
    {
     "data": {
      "text/plain": [
       "<AxesSubplot:xlabel='count', ylabel='date'>"
      ]
     },
     "execution_count": 48,
     "metadata": {},
     "output_type": "execute_result"
    },
    {
     "data": {
      "image/png": "[encoded data removed]",
      "text/plain": [
       "<Figure size 432x288 with 1 Axes>"
      ]
     },
     "metadata": {
      "needs_background": "light"
     },
     "output_type": "display_data"
    }
   ],
   "source": [
    "sns.countplot(y=df['date'].value_counts()[:5] )"
   ]
  },
  {
   "cell_type": "code",
   "execution_count": 51,
   "id": "d4fa716c",
   "metadata": {},
   "outputs": [
    {
     "data": {
      "text/plain": [
       "<AxesSubplot:ylabel='time_take'>"
      ]
     },
     "execution_count": 51,
     "metadata": {},
     "output_type": "execute_result"
    },
    {
     "data": {
      "image/png": "[encoded data removed]",
      "text/plain": [
       "<Figure size 432x288 with 1 Axes>"
      ]
     },
     "metadata": {
      "needs_background": "light"
     },
     "output_type": "display_data"
    }
   ],
   "source": [
    "x=df.groupby('week_order_placed_at')['time_take'].count()\n",
    "sns.barplot(x=[1,2,3,4,5],y=x)"
   ]
  },
  {
   "cell_type": "code",
   "execution_count": 52,
   "id": "107d430a",
   "metadata": {},
   "outputs": [
    {
     "data": {
      "text/plain": [
       "<Figure size 720x720 with 0 Axes>"
      ]
     },
     "execution_count": 52,
     "metadata": {},
     "output_type": "execute_result"
    },
    {
     "data": {
      "image/png": "[encoded data removed]",
      "text/plain": [
       "<Figure size 432x288 with 1 Axes>"
      ]
     },
     "metadata": {
      "needs_background": "light"
     },
     "output_type": "display_data"
    },
    {
     "data": {
      "text/plain": [
       "<Figure size 720x720 with 0 Axes>"
      ]
     },
     "metadata": {},
     "output_type": "display_data"
    }
   ],
   "source": [
    "b=df.groupby('date')['time_take'].count().reset_index()\n",
    "sns.barplot(y=b['time_take'],x=[1,2,3,4,5,6,7,8,9,10,11,12,13,14,15,16,17,18,19,20,21,22,23,24,25,26,27])\n",
    "plt.figure(figsize=(10,10))"
   ]
  },
  {
   "cell_type": "markdown",
   "id": "afe6a960",
   "metadata": {},
   "source": [
    "## Interpretation"
   ]
  },
  {
   "cell_type": "markdown",
   "id": "c7b503bd",
   "metadata": {},
   "source": [
    "->The time taken for delivery varied between 15 minutes and 5 days, 1 hour, 39 minutes, and 49.882496 seconds. On average, orders were delivered in 20 minutes and 29.96 seconds, with half of all orders being delivered in less than 15 minutes and 47.88 seconds. These findings suggest that the business generally has a quick turnaround time for order delivery, but there is room for improvement to ensure consistency and minimize longer delivery times.\n",
    "\n",
    "->The analysis also reveals that the maximum number of orders were delivered on 20th March, while the minimum number of orders were delivered on 14th March. This can help the business to plan their resources and operations accordingly.\n",
    "\n",
    "->The analysis also shows that Thursday and Wednesday were the days with the maximum number of orders delivered. Additionally, the second and fourth weeks of the month had the maximum number of orders delivered, which can help the business to plan their inventory and staffing accordingly."
   ]
  },
  {
   "cell_type": "code",
   "execution_count": null,
   "id": "461329a2",
   "metadata": {},
   "outputs": [],
   "source": []
  }
 ],
 "metadata": {
  "kernelspec": {
   "display_name": "Python 3 (ipykernel)",
   "language": "python",
   "name": "python3"
  },
  "language_info": {
   "codemirror_mode": {
    "name": "ipython",
    "version": 3
   },
   "file_extension": ".py",
   "mimetype": "text/x-python",
   "name": "python",
   "nbconvert_exporter": "python",
   "pygments_lexer": "ipython3",
   "version": "3.9.12"
  }
 },
 "nbformat": 4,
 "nbformat_minor": 5
}
